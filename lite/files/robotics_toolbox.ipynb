{
  "metadata": {
    "language_info": {
      "file_extension": ".py",
      "mimetype": "text/x-python",
      "name": "python",
      "version": "3.10.2"
    },
    "kernelspec": {
      "name": "xeus-python",
      "display_name": "Python (XPython)",
      "language": "python"
    }
  },
  "nbformat_minor": 4,
  "nbformat": 4,
  "cells": [
    {
      "cell_type": "code",
      "source": "import os",
      "metadata": {
        "trusted": true
      },
      "execution_count": 1,
      "outputs": []
    },
    {
      "cell_type": "code",
      "source": "import requests\nimport tarfile",
      "metadata": {
        "trusted": true
      },
      "execution_count": 2,
      "outputs": []
    },
    {
      "cell_type": "code",
      "source": "res = requests.get(\"https://beta.mamba.pm/get/conda-forge/noarch/rtb-data-0.10.0-pyhd8ed1ab_0.tar.bz2\")",
      "metadata": {
        "trusted": true
      },
      "execution_count": 4,
      "outputs": [
        {
          "execution_count": 4,
          "output_type": "execute_result",
          "data": {
            "text/plain": "<requests.models.Response at 0x451a808>"
          },
          "metadata": {}
        }
      ]
    },
    {
      "cell_type": "code",
      "source": "with open(\"/out.tar.bz2\", \"wb\") as fo:\n    fo.write(res.content)",
      "metadata": {
        "trusted": true
      },
      "execution_count": 6,
      "outputs": []
    },
    {
      "cell_type": "code",
      "source": "file = tarfile.open(\"/out.tar.bz2\")",
      "metadata": {
        "trusted": true
      },
      "execution_count": 7,
      "outputs": []
    },
    {
      "cell_type": "code",
      "source": "mems = []\nfor mem in file.getmembers():\n    if mem.name.removeprefix(\"site-packages/rtbdata/\").startswith((\"xacro\", \"data\", \"meshes\")):\n        mems.append(mem)",
      "metadata": {
        "trusted": true
      },
      "execution_count": 8,
      "outputs": []
    },
    {
      "cell_type": "code",
      "source": "# print(mems)",
      "metadata": {
        "trusted": true
      },
      "execution_count": 9,
      "outputs": []
    },
    {
      "cell_type": "code",
      "source": "file.extractall(\"/tmp/xeus-python-kernel/envs/xeus-python-kernel/lib/python3.10/\", members=mems)",
      "metadata": {
        "trusted": true
      },
      "execution_count": 11,
      "outputs": []
    },
    {
      "cell_type": "code",
      "source": "import roboticstoolbox as rtb\npuma = rtb.models.DH.Puma560()",
      "metadata": {
        "trusted": true
      },
      "execution_count": 14,
      "outputs": []
    },
    {
      "cell_type": "code",
      "source": "print(puma)",
      "metadata": {
        "trusted": true
      },
      "execution_count": 15,
      "outputs": [
        {
          "name": "stdout",
          "text": "DHRobot: Puma 560 (by Unimation), 6 joints (RRRRRR), dynamics, geometry, standard DH parameters\n┌────┬────────┬────────┬────────┬─────────┬────────┐\n│θⱼ  │   dⱼ   │   aⱼ   │   ⍺ⱼ   │   q⁻    │   q⁺   │\n├────┼────────┼────────┼────────┼─────────┼────────┤\n│ q1 │ 0.6718 │      0 │  90.0° │ -160.0° │ 160.0° │\n│ q2 │      0 │ 0.4318 │   0.0° │ -110.0° │ 110.0° │\n│ q3 │   0.15 │ 0.0203 │ -90.0° │ -135.0° │ 135.0° │\n│ q4 │ 0.4318 │      0 │  90.0° │ -266.0° │ 266.0° │\n│ q5 │      0 │      0 │ -90.0° │ -100.0° │ 100.0° │\n│ q6 │      0 │      0 │   0.0° │ -266.0° │ 266.0° │\n└────┴────────┴────────┴────────┴─────────┴────────┘\n\n┌─┬──┐\n└─┴──┘\n\n┌─────┬─────┬──────┬───────┬─────┬──────┬─────┐\n│name │ q0  │ q1   │ q2    │ q3  │ q4   │ q5  │\n├─────┼─────┼──────┼───────┼─────┼──────┼─────┤\n│  qr │  0° │  90° │ -90°  │  0° │  0°  │  0° │\n│  qz │  0° │  0°  │  0°   │  0° │  0°  │  0° │\n│  qn │  0° │  45° │  180° │  0° │  45° │  0° │\n│  qs │  0° │  0°  │ -90°  │  0° │  0°  │  0° │\n└─────┴─────┴──────┴───────┴─────┴──────┴─────┘\n\n",
          "output_type": "stream"
        }
      ]
    },
    {
      "cell_type": "code",
      "source": "traj = rtb.jtraj(puma.qz, puma.qr, 100)\ntraj.q.shape",
      "metadata": {
        "trusted": true
      },
      "execution_count": 16,
      "outputs": [
        {
          "execution_count": 16,
          "output_type": "execute_result",
          "data": {
            "text/plain": "(100, 6)"
          },
          "metadata": {}
        }
      ]
    },
    {
      "cell_type": "code",
      "source": "traj",
      "metadata": {
        "trusted": true
      },
      "execution_count": 17,
      "outputs": [
        {
          "execution_count": 17,
          "output_type": "execute_result",
          "data": {
            "text/plain": "Trajectory created by jtraj: 100 time steps x 6 axes"
          },
          "metadata": {}
        }
      ]
    },
    {
      "cell_type": "code",
      "source": "panda = rtb.models.URDF.Panda()\nprint(panda)",
      "metadata": {
        "trusted": true
      },
      "execution_count": 26,
      "outputs": [
        {
          "name": "stdout",
          "text": "ERobot: panda (by Franka Emika), 7 joints (RRRRRRR), 1 gripper, geometry, collision\n┌─────┬──────────────┬───────┬─────────────┬────────────────────────────────────────────────┐\n│link │     link     │ joint │   parent    │              ETS: parent to link               │\n├─────┼──────────────┼───────┼─────────────┼────────────────────────────────────────────────┤\n│   0 │ panda_link0  │       │ BASE        │                                                │\n│   1 │ panda_link1  │     0 │ panda_link0 │ SE3(0, 0, 0.333) ⊕ Rz(q0)                      │\n│   2 │ panda_link2  │     1 │ panda_link1 │ SE3(-90°, -0°, 0°) ⊕ Rz(q1)                    │\n│   3 │ panda_link3  │     2 │ panda_link2 │ SE3(0, -0.316, 0; 90°, -0°, 0°) ⊕ Rz(q2)       │\n│   4 │ panda_link4  │     3 │ panda_link3 │ SE3(0.0825, 0, 0; 90°, -0°, 0°) ⊕ Rz(q3)       │\n│   5 │ panda_link5  │     4 │ panda_link4 │ SE3(-0.0825, 0.384, 0; -90°, -0°, 0°) ⊕ Rz(q4) │\n│   6 │ panda_link6  │     5 │ panda_link5 │ SE3(90°, -0°, 0°) ⊕ Rz(q5)                     │\n│   7 │ panda_link7  │     6 │ panda_link6 │ SE3(0.088, 0, 0; 90°, -0°, 0°) ⊕ Rz(q6)        │\n│   8 │ @panda_link8 │       │ panda_link7 │ SE3(0, 0, 0.107)                               │\n└─────┴──────────────┴───────┴─────────────┴────────────────────────────────────────────────┘\n\n┌─────┬─────┬────────┬─────┬───────┬─────┬───────┬──────┐\n│name │ q0  │ q1     │ q2  │ q3    │ q4  │ q5    │ q6   │\n├─────┼─────┼────────┼─────┼───────┼─────┼───────┼──────┤\n│  qr │  0° │ -17.2° │  0° │ -126° │  0° │  115° │  45° │\n│  qz │  0° │  0°    │  0° │  0°   │  0° │  0°   │  0°  │\n└─────┴─────┴────────┴─────┴───────┴─────┴───────┴──────┘\n\n",
          "output_type": "stream"
        }
      ]
    },
    {
      "cell_type": "code",
      "source": "T = puma.fkine([0.1, 0.2, 0.3, 0.4, 0.5, 0.6])",
      "metadata": {
        "trusted": true
      },
      "execution_count": 27,
      "outputs": []
    },
    {
      "cell_type": "code",
      "source": "T",
      "metadata": {
        "trusted": true
      },
      "execution_count": 28,
      "outputs": [
        {
          "execution_count": 28,
          "output_type": "execute_result",
          "data": {
            "text/plain": "   0.1217   -0.6067   -0.7856    0.2478    \n   0.8184    0.5092   -0.2665   -0.1259    \n   0.5617   -0.6105    0.5584    1.146     \n   0         0         0         1         \n"
          },
          "metadata": {}
        }
      ]
    },
    {
      "cell_type": "code",
      "source": "sol = puma.ikine_LM(T)",
      "metadata": {
        "trusted": true
      },
      "execution_count": 29,
      "outputs": []
    },
    {
      "cell_type": "code",
      "source": "sol",
      "metadata": {
        "trusted": true
      },
      "execution_count": 30,
      "outputs": [
        {
          "execution_count": 30,
          "output_type": "execute_result",
          "data": {
            "text/plain": "IKsolution(q=array([0.1, 0.2, 0.3, 0.4, 0.5, 0.6]), success=True, reason=None, iterations=12, residual=8.514814452837396e-13)"
          },
          "metadata": {}
        }
      ]
    },
    {
      "cell_type": "code",
      "source": "plots = puma.plot(traj.q[10])",
      "metadata": {},
      "execution_count": null,
      "outputs": []
    }
  ]
}